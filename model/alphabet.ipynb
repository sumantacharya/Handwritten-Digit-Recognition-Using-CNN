{
 "cells": [
  {
   "cell_type": "code",
   "execution_count": 1,
   "metadata": {
    "_cell_guid": "b1076dfc-b9ad-4769-8c92-a6c4dae69d19",
    "_uuid": "8f2839f25d086af736a60e9eeb907d3b93b6e0e5"
   },
   "outputs": [],
   "source": [
    "import numpy as np\n",
    "import pandas as pd\n",
    "import tensorflow as tf\n",
    "import matplotlib.pyplot as plt\n",
    "from keras.layers import Conv2D, MaxPool2D, Flatten, Dense, Dropout, BatchNormalization\n",
    "from keras.models import Sequential,load_model\n",
    "import keras"
   ]
  },
  {
   "cell_type": "code",
   "execution_count": 2,
   "metadata": {},
   "outputs": [],
   "source": [
    "train_images = pd.read_csv(\"../input/emnist/emnist-balanced-train.csv\",header=None)\n",
    "test_images = pd.read_csv(\"../input/emnist/emnist-balanced-test.csv\",header=None)\n",
    "map_images = pd.read_csv(\"../input/emnist/emnist-balanced-mapping.txt\",header=None) \n",
    "#The 1st row would be treated as header if not set header to none."
   ]
  },
  {
   "cell_type": "markdown",
   "metadata": {},
   "source": [
    "## EMNIST-Balanced(Extended MNIST) Dataset CSV Structure :\n",
    "* Each row represents a single image of shape -> (1,784) There are a total of 784 columns.\n",
    "* The first column contains the labels for each image \n",
    "* **Example** : The 0th row in the above dataframe represents and image the pixel for this image starts from 1st column and the point (1,0) i.e 36 is the label for this image in the 0th column.\n",
    "* In the map_images.txt file 36 maps to 97 which is ASCII Value for \"a\".\n",
    "* 47 Labels in map_images represent digits(0->9),alphabets(A-Z & a,b,d,..t)."
   ]
  },
  {
   "cell_type": "code",
   "execution_count": 3,
   "metadata": {
    "_kg_hide-input": false
   },
   "outputs": [
    {
     "data": {
      "text/html": [
       "<div>\n",
       "<style scoped>\n",
       "    .dataframe tbody tr th:only-of-type {\n",
       "        vertical-align: middle;\n",
       "    }\n",
       "\n",
       "    .dataframe tbody tr th {\n",
       "        vertical-align: top;\n",
       "    }\n",
       "\n",
       "    .dataframe thead th {\n",
       "        text-align: right;\n",
       "    }\n",
       "</style>\n",
       "<table border=\"1\" class=\"dataframe\">\n",
       "  <thead>\n",
       "    <tr style=\"text-align: right;\">\n",
       "      <th></th>\n",
       "      <th>0</th>\n",
       "      <th>1</th>\n",
       "      <th>2</th>\n",
       "      <th>3</th>\n",
       "      <th>4</th>\n",
       "      <th>5</th>\n",
       "      <th>6</th>\n",
       "      <th>7</th>\n",
       "      <th>8</th>\n",
       "      <th>9</th>\n",
       "      <th>...</th>\n",
       "      <th>775</th>\n",
       "      <th>776</th>\n",
       "      <th>777</th>\n",
       "      <th>778</th>\n",
       "      <th>779</th>\n",
       "      <th>780</th>\n",
       "      <th>781</th>\n",
       "      <th>782</th>\n",
       "      <th>783</th>\n",
       "      <th>784</th>\n",
       "    </tr>\n",
       "  </thead>\n",
       "  <tbody>\n",
       "    <tr>\n",
       "      <th>0</th>\n",
       "      <td>45</td>\n",
       "      <td>0</td>\n",
       "      <td>0</td>\n",
       "      <td>0</td>\n",
       "      <td>0</td>\n",
       "      <td>0</td>\n",
       "      <td>0</td>\n",
       "      <td>0</td>\n",
       "      <td>0</td>\n",
       "      <td>0</td>\n",
       "      <td>...</td>\n",
       "      <td>0</td>\n",
       "      <td>0</td>\n",
       "      <td>0</td>\n",
       "      <td>0</td>\n",
       "      <td>0</td>\n",
       "      <td>0</td>\n",
       "      <td>0</td>\n",
       "      <td>0</td>\n",
       "      <td>0</td>\n",
       "      <td>0</td>\n",
       "    </tr>\n",
       "    <tr>\n",
       "      <th>1</th>\n",
       "      <td>36</td>\n",
       "      <td>0</td>\n",
       "      <td>0</td>\n",
       "      <td>0</td>\n",
       "      <td>0</td>\n",
       "      <td>0</td>\n",
       "      <td>0</td>\n",
       "      <td>0</td>\n",
       "      <td>0</td>\n",
       "      <td>0</td>\n",
       "      <td>...</td>\n",
       "      <td>0</td>\n",
       "      <td>0</td>\n",
       "      <td>0</td>\n",
       "      <td>0</td>\n",
       "      <td>0</td>\n",
       "      <td>0</td>\n",
       "      <td>0</td>\n",
       "      <td>0</td>\n",
       "      <td>0</td>\n",
       "      <td>0</td>\n",
       "    </tr>\n",
       "    <tr>\n",
       "      <th>2</th>\n",
       "      <td>43</td>\n",
       "      <td>0</td>\n",
       "      <td>0</td>\n",
       "      <td>0</td>\n",
       "      <td>0</td>\n",
       "      <td>0</td>\n",
       "      <td>0</td>\n",
       "      <td>0</td>\n",
       "      <td>0</td>\n",
       "      <td>0</td>\n",
       "      <td>...</td>\n",
       "      <td>0</td>\n",
       "      <td>0</td>\n",
       "      <td>0</td>\n",
       "      <td>0</td>\n",
       "      <td>0</td>\n",
       "      <td>0</td>\n",
       "      <td>0</td>\n",
       "      <td>0</td>\n",
       "      <td>0</td>\n",
       "      <td>0</td>\n",
       "    </tr>\n",
       "    <tr>\n",
       "      <th>3</th>\n",
       "      <td>15</td>\n",
       "      <td>0</td>\n",
       "      <td>0</td>\n",
       "      <td>0</td>\n",
       "      <td>0</td>\n",
       "      <td>0</td>\n",
       "      <td>0</td>\n",
       "      <td>0</td>\n",
       "      <td>0</td>\n",
       "      <td>0</td>\n",
       "      <td>...</td>\n",
       "      <td>0</td>\n",
       "      <td>0</td>\n",
       "      <td>0</td>\n",
       "      <td>0</td>\n",
       "      <td>0</td>\n",
       "      <td>0</td>\n",
       "      <td>0</td>\n",
       "      <td>0</td>\n",
       "      <td>0</td>\n",
       "      <td>0</td>\n",
       "    </tr>\n",
       "    <tr>\n",
       "      <th>4</th>\n",
       "      <td>4</td>\n",
       "      <td>0</td>\n",
       "      <td>0</td>\n",
       "      <td>0</td>\n",
       "      <td>0</td>\n",
       "      <td>0</td>\n",
       "      <td>0</td>\n",
       "      <td>0</td>\n",
       "      <td>0</td>\n",
       "      <td>0</td>\n",
       "      <td>...</td>\n",
       "      <td>0</td>\n",
       "      <td>0</td>\n",
       "      <td>0</td>\n",
       "      <td>0</td>\n",
       "      <td>0</td>\n",
       "      <td>0</td>\n",
       "      <td>0</td>\n",
       "      <td>0</td>\n",
       "      <td>0</td>\n",
       "      <td>0</td>\n",
       "    </tr>\n",
       "    <tr>\n",
       "      <th>...</th>\n",
       "      <td>...</td>\n",
       "      <td>...</td>\n",
       "      <td>...</td>\n",
       "      <td>...</td>\n",
       "      <td>...</td>\n",
       "      <td>...</td>\n",
       "      <td>...</td>\n",
       "      <td>...</td>\n",
       "      <td>...</td>\n",
       "      <td>...</td>\n",
       "      <td>...</td>\n",
       "      <td>...</td>\n",
       "      <td>...</td>\n",
       "      <td>...</td>\n",
       "      <td>...</td>\n",
       "      <td>...</td>\n",
       "      <td>...</td>\n",
       "      <td>...</td>\n",
       "      <td>...</td>\n",
       "      <td>...</td>\n",
       "      <td>...</td>\n",
       "    </tr>\n",
       "    <tr>\n",
       "      <th>112795</th>\n",
       "      <td>22</td>\n",
       "      <td>0</td>\n",
       "      <td>0</td>\n",
       "      <td>0</td>\n",
       "      <td>0</td>\n",
       "      <td>0</td>\n",
       "      <td>0</td>\n",
       "      <td>0</td>\n",
       "      <td>0</td>\n",
       "      <td>0</td>\n",
       "      <td>...</td>\n",
       "      <td>0</td>\n",
       "      <td>0</td>\n",
       "      <td>0</td>\n",
       "      <td>0</td>\n",
       "      <td>0</td>\n",
       "      <td>0</td>\n",
       "      <td>0</td>\n",
       "      <td>0</td>\n",
       "      <td>0</td>\n",
       "      <td>0</td>\n",
       "    </tr>\n",
       "    <tr>\n",
       "      <th>112796</th>\n",
       "      <td>17</td>\n",
       "      <td>0</td>\n",
       "      <td>0</td>\n",
       "      <td>0</td>\n",
       "      <td>0</td>\n",
       "      <td>0</td>\n",
       "      <td>0</td>\n",
       "      <td>0</td>\n",
       "      <td>0</td>\n",
       "      <td>0</td>\n",
       "      <td>...</td>\n",
       "      <td>0</td>\n",
       "      <td>0</td>\n",
       "      <td>0</td>\n",
       "      <td>0</td>\n",
       "      <td>0</td>\n",
       "      <td>0</td>\n",
       "      <td>0</td>\n",
       "      <td>0</td>\n",
       "      <td>0</td>\n",
       "      <td>0</td>\n",
       "    </tr>\n",
       "    <tr>\n",
       "      <th>112797</th>\n",
       "      <td>23</td>\n",
       "      <td>0</td>\n",
       "      <td>0</td>\n",
       "      <td>0</td>\n",
       "      <td>0</td>\n",
       "      <td>0</td>\n",
       "      <td>0</td>\n",
       "      <td>0</td>\n",
       "      <td>0</td>\n",
       "      <td>0</td>\n",
       "      <td>...</td>\n",
       "      <td>0</td>\n",
       "      <td>0</td>\n",
       "      <td>0</td>\n",
       "      <td>0</td>\n",
       "      <td>0</td>\n",
       "      <td>0</td>\n",
       "      <td>0</td>\n",
       "      <td>0</td>\n",
       "      <td>0</td>\n",
       "      <td>0</td>\n",
       "    </tr>\n",
       "    <tr>\n",
       "      <th>112798</th>\n",
       "      <td>31</td>\n",
       "      <td>0</td>\n",
       "      <td>0</td>\n",
       "      <td>0</td>\n",
       "      <td>0</td>\n",
       "      <td>0</td>\n",
       "      <td>0</td>\n",
       "      <td>0</td>\n",
       "      <td>0</td>\n",
       "      <td>0</td>\n",
       "      <td>...</td>\n",
       "      <td>0</td>\n",
       "      <td>0</td>\n",
       "      <td>0</td>\n",
       "      <td>0</td>\n",
       "      <td>0</td>\n",
       "      <td>0</td>\n",
       "      <td>0</td>\n",
       "      <td>0</td>\n",
       "      <td>0</td>\n",
       "      <td>0</td>\n",
       "    </tr>\n",
       "    <tr>\n",
       "      <th>112799</th>\n",
       "      <td>8</td>\n",
       "      <td>0</td>\n",
       "      <td>0</td>\n",
       "      <td>0</td>\n",
       "      <td>0</td>\n",
       "      <td>0</td>\n",
       "      <td>0</td>\n",
       "      <td>0</td>\n",
       "      <td>0</td>\n",
       "      <td>0</td>\n",
       "      <td>...</td>\n",
       "      <td>0</td>\n",
       "      <td>0</td>\n",
       "      <td>0</td>\n",
       "      <td>0</td>\n",
       "      <td>0</td>\n",
       "      <td>0</td>\n",
       "      <td>0</td>\n",
       "      <td>0</td>\n",
       "      <td>0</td>\n",
       "      <td>0</td>\n",
       "    </tr>\n",
       "  </tbody>\n",
       "</table>\n",
       "<p>112800 rows × 785 columns</p>\n",
       "</div>"
      ],
      "text/plain": [
       "        0    1    2    3    4    5    6    7    8    9    ...  775  776  777  \\\n",
       "0        45    0    0    0    0    0    0    0    0    0  ...    0    0    0   \n",
       "1        36    0    0    0    0    0    0    0    0    0  ...    0    0    0   \n",
       "2        43    0    0    0    0    0    0    0    0    0  ...    0    0    0   \n",
       "3        15    0    0    0    0    0    0    0    0    0  ...    0    0    0   \n",
       "4         4    0    0    0    0    0    0    0    0    0  ...    0    0    0   \n",
       "...     ...  ...  ...  ...  ...  ...  ...  ...  ...  ...  ...  ...  ...  ...   \n",
       "112795   22    0    0    0    0    0    0    0    0    0  ...    0    0    0   \n",
       "112796   17    0    0    0    0    0    0    0    0    0  ...    0    0    0   \n",
       "112797   23    0    0    0    0    0    0    0    0    0  ...    0    0    0   \n",
       "112798   31    0    0    0    0    0    0    0    0    0  ...    0    0    0   \n",
       "112799    8    0    0    0    0    0    0    0    0    0  ...    0    0    0   \n",
       "\n",
       "        778  779  780  781  782  783  784  \n",
       "0         0    0    0    0    0    0    0  \n",
       "1         0    0    0    0    0    0    0  \n",
       "2         0    0    0    0    0    0    0  \n",
       "3         0    0    0    0    0    0    0  \n",
       "4         0    0    0    0    0    0    0  \n",
       "...     ...  ...  ...  ...  ...  ...  ...  \n",
       "112795    0    0    0    0    0    0    0  \n",
       "112796    0    0    0    0    0    0    0  \n",
       "112797    0    0    0    0    0    0    0  \n",
       "112798    0    0    0    0    0    0    0  \n",
       "112799    0    0    0    0    0    0    0  \n",
       "\n",
       "[112800 rows x 785 columns]"
      ]
     },
     "execution_count": 3,
     "metadata": {},
     "output_type": "execute_result"
    }
   ],
   "source": [
    "train_images"
   ]
  },
  {
   "cell_type": "code",
   "execution_count": 4,
   "metadata": {},
   "outputs": [
    {
     "name": "stdout",
     "output_type": "stream",
     "text": [
      "a\n"
     ]
    },
    {
     "data": {
      "image/png": "[encoded data removed]",
      "text/plain": [
       "<Figure size 432x288 with 1 Axes>"
      ]
     },
     "metadata": {
      "needs_background": "light"
     },
     "output_type": "display_data"
    }
   ],
   "source": [
    "plt.imshow(np.rot90(np.fliplr(train_images.iloc[1,1:].values.reshape(28,28)))) ## We'll learn about this later\n",
    "print(chr(97)) # 36 in labels column maps to 36 --> 97 in map_images "
   ]
  },
  {
   "cell_type": "markdown",
   "metadata": {},
   "source": [
    "## **Data Preprocessing**"
   ]
  },
  {
   "cell_type": "code",
   "execution_count": 5,
   "metadata": {},
   "outputs": [
    {
     "data": {
      "text/plain": [
       "<matplotlib.image.AxesImage at 0x7ffac7f97d10>"
      ]
     },
     "execution_count": 5,
     "metadata": {},
     "output_type": "execute_result"
    },
    {
     "data": {
      "image/png": "[encoded data removed]",
      "text/plain": [
       "<Figure size 432x288 with 1 Axes>"
      ]
     },
     "metadata": {
      "needs_background": "light"
     },
     "output_type": "display_data"
    }
   ],
   "source": [
    "# Seperating labels from features in training and test data.\n",
    "train_x = train_images.iloc[:,1:]  \n",
    "train_y = train_images.iloc[:,0]  \n",
    "train_x = train_x.values\n",
    "\n",
    "test_x = test_images.iloc[:,1:]\n",
    "test_y = test_images.iloc[:,0]\n",
    "test_x = test_x.values\n",
    "\n",
    "# ascii_map just for the convenince, i've removed the first column in map_images.\n",
    "ascii_map = []\n",
    "for i in map_images.values:\n",
    "    ascii_map.append(i[0].split()[1])\n",
    "\n",
    "# Uncomment the below line to know about the labels present in our dataset\n",
    "# for i in ascii_map: \n",
    "#     print(chr(int(i)))\n",
    "plt.imshow(np.rot90(np.fliplr(train_x[1].reshape(28,28))))"
   ]
  },
  {
   "cell_type": "code",
   "execution_count": 6,
   "metadata": {},
   "outputs": [],
   "source": [
    "# The images in train_images are not in a proper orientation,hence to make them appropriate for training & testing data.\n",
    "\n",
    "def rot_flip(image):\n",
    "    image = image.reshape([28, 28])\n",
    "    image = np.fliplr(image)\n",
    "    image = np.rot90(image)\n",
    "    return image"
   ]
  },
  {
   "cell_type": "code",
   "execution_count": 7,
   "metadata": {},
   "outputs": [
    {
     "data": {
      "text/plain": [
       "(112800, 28, 28)"
      ]
     },
     "execution_count": 7,
     "metadata": {},
     "output_type": "execute_result"
    },
    {
     "data": {
      "image/png": "[encoded data removed]",
      "text/plain": [
       "<Figure size 432x288 with 1 Axes>"
      ]
     },
     "metadata": {
      "needs_background": "light"
     },
     "output_type": "display_data"
    }
   ],
   "source": [
    "train_x = np.apply_along_axis(rot_flip,1,train_x)\n",
    "test_x = np.apply_along_axis(rot_flip,1,test_x)\n",
    "plt.imshow(train_x[2])\n",
    "train_x.shape"
   ]
  },
  {
   "cell_type": "code",
   "execution_count": 8,
   "metadata": {},
   "outputs": [],
   "source": [
    "train_x = train_x.astype('float32')\n",
    "train_x = train_x/255.0\n",
    "\n",
    "test_x = test_x.astype('float32')\n",
    "test_x = test_x/255.0\n",
    "\n",
    "train_x = train_x.reshape(-1, 28,28, 1)   #Equivalent to (112800,28,28,1)\n",
    "test_x = test_x.reshape(-1, 28,28, 1)   #Equivalent to (18800,28,28,1)"
   ]
  },
  {
   "cell_type": "code",
   "execution_count": 9,
   "metadata": {},
   "outputs": [],
   "source": [
    "model = Sequential()\n",
    "model.add(Conv2D(32,(3,3),input_shape = (28,28,1),activation = 'relu'))\n",
    "model.add(Conv2D(64,(3,3),activation = 'relu'))\n",
    "model.add(MaxPool2D(2,2))\n",
    "model.add(Dropout(0.25))\n",
    "model.add(Flatten())\n",
    "model.add(Dense(128,activation='relu'))\n",
    "model.add(Dropout(0.5))\n",
    "model.add(Dense(47,activation='softmax'))"
   ]
  },
  {
   "cell_type": "code",
   "execution_count": 10,
   "metadata": {},
   "outputs": [
    {
     "name": "stdout",
     "output_type": "stream",
     "text": [
      "Model: \"sequential\"\n",
      "_________________________________________________________________\n",
      "Layer (type)                 Output Shape              Param #   \n",
      "=================================================================\n",
      "conv2d (Conv2D)              (None, 26, 26, 32)        320       \n",
      "_________________________________________________________________\n",
      "conv2d_1 (Conv2D)            (None, 24, 24, 64)        18496     \n",
      "_________________________________________________________________\n",
      "max_pooling2d (MaxPooling2D) (None, 12, 12, 64)        0         \n",
      "_________________________________________________________________\n",
      "dropout (Dropout)            (None, 12, 12, 64)        0         \n",
      "_________________________________________________________________\n",
      "flatten (Flatten)            (None, 9216)              0         \n",
      "_________________________________________________________________\n",
      "dense (Dense)                (None, 128)               1179776   \n",
      "_________________________________________________________________\n",
      "dropout_1 (Dropout)          (None, 128)               0         \n",
      "_________________________________________________________________\n",
      "dense_1 (Dense)              (None, 47)                6063      \n",
      "=================================================================\n",
      "Total params: 1,204,655\n",
      "Trainable params: 1,204,655\n",
      "Non-trainable params: 0\n",
      "_________________________________________________________________\n"
     ]
    }
   ],
   "source": [
    "model.compile(optimizer = 'adam',loss= \"sparse_categorical_crossentropy\", metrics=['accuracy'])\n",
    "model.summary()"
   ]
  },
  {
   "cell_type": "code",
   "execution_count": 11,
   "metadata": {},
   "outputs": [
    {
     "name": "stdout",
     "output_type": "stream",
     "text": [
      "Epoch 1/20\n",
      "3525/3525 [==============================] - 13s 3ms/step - loss: 1.5267 - accuracy: 0.5617 - val_loss: 0.4918 - val_accuracy: 0.8375\n",
      "Epoch 2/20\n",
      "3525/3525 [==============================] - 10s 3ms/step - loss: 0.7000 - accuracy: 0.7735 - val_loss: 0.4395 - val_accuracy: 0.8532\n",
      "Epoch 3/20\n",
      "3525/3525 [==============================] - 10s 3ms/step - loss: 0.5950 - accuracy: 0.8040 - val_loss: 0.4155 - val_accuracy: 0.8601\n",
      "Epoch 4/20\n",
      "3525/3525 [==============================] - 10s 3ms/step - loss: 0.5416 - accuracy: 0.8156 - val_loss: 0.3999 - val_accuracy: 0.8641\n",
      "Epoch 5/20\n",
      "3525/3525 [==============================] - 10s 3ms/step - loss: 0.4982 - accuracy: 0.8297 - val_loss: 0.3909 - val_accuracy: 0.8670\n",
      "Epoch 6/20\n",
      "3525/3525 [==============================] - 10s 3ms/step - loss: 0.4757 - accuracy: 0.8376 - val_loss: 0.3805 - val_accuracy: 0.8727\n",
      "Epoch 7/20\n",
      "3525/3525 [==============================] - 10s 3ms/step - loss: 0.4509 - accuracy: 0.8438 - val_loss: 0.3775 - val_accuracy: 0.8723\n",
      "Epoch 8/20\n",
      "3525/3525 [==============================] - 10s 3ms/step - loss: 0.4366 - accuracy: 0.8500 - val_loss: 0.3680 - val_accuracy: 0.8745\n",
      "Epoch 9/20\n",
      "3525/3525 [==============================] - 10s 3ms/step - loss: 0.4196 - accuracy: 0.8526 - val_loss: 0.3685 - val_accuracy: 0.8762\n",
      "Epoch 10/20\n",
      "3525/3525 [==============================] - 10s 3ms/step - loss: 0.4039 - accuracy: 0.8551 - val_loss: 0.3708 - val_accuracy: 0.8768\n",
      "Epoch 11/20\n",
      "3525/3525 [==============================] - 10s 3ms/step - loss: 0.3978 - accuracy: 0.8567 - val_loss: 0.3683 - val_accuracy: 0.8760\n",
      "Epoch 12/20\n",
      "3525/3525 [==============================] - 10s 3ms/step - loss: 0.3864 - accuracy: 0.8609 - val_loss: 0.3712 - val_accuracy: 0.8770\n",
      "Epoch 13/20\n",
      "3525/3525 [==============================] - 10s 3ms/step - loss: 0.3709 - accuracy: 0.8676 - val_loss: 0.3758 - val_accuracy: 0.8786\n",
      "Epoch 14/20\n",
      "3525/3525 [==============================] - 10s 3ms/step - loss: 0.3637 - accuracy: 0.8662 - val_loss: 0.3726 - val_accuracy: 0.8789\n",
      "Epoch 15/20\n",
      "3525/3525 [==============================] - 10s 3ms/step - loss: 0.3571 - accuracy: 0.8691 - val_loss: 0.3806 - val_accuracy: 0.8779\n",
      "Epoch 16/20\n",
      "3525/3525 [==============================] - 10s 3ms/step - loss: 0.3461 - accuracy: 0.8741 - val_loss: 0.3768 - val_accuracy: 0.8796\n",
      "Epoch 17/20\n",
      "3525/3525 [==============================] - 10s 3ms/step - loss: 0.3371 - accuracy: 0.8754 - val_loss: 0.3681 - val_accuracy: 0.8802\n",
      "Epoch 18/20\n",
      "3525/3525 [==============================] - 10s 3ms/step - loss: 0.3380 - accuracy: 0.8759 - val_loss: 0.3861 - val_accuracy: 0.8789\n",
      "Epoch 19/20\n",
      "3525/3525 [==============================] - 10s 3ms/step - loss: 0.3298 - accuracy: 0.8789 - val_loss: 0.3892 - val_accuracy: 0.8790\n",
      "Epoch 20/20\n",
      "3525/3525 [==============================] - 10s 3ms/step - loss: 0.3296 - accuracy: 0.8773 - val_loss: 0.3760 - val_accuracy: 0.8810\n"
     ]
    }
   ],
   "source": [
    "history = model.fit(\n",
    "    train_x,\n",
    "    train_y,\n",
    "    validation_data = (test_x,test_y),\n",
    "    epochs = 20,\n",
    ")"
   ]
  },
  {
   "cell_type": "code",
   "execution_count": 12,
   "metadata": {},
   "outputs": [],
   "source": [
    "model.save('Balanced-Model.h5')"
   ]
  },
  {
   "cell_type": "code",
   "execution_count": 13,
   "metadata": {},
   "outputs": [],
   "source": [
    "ascii_map = []\n",
    "for i in map_images.values:\n",
    "    ascii_map.append(i[0].split()[1])\n",
    "\n",
    "\n",
    "# Adding character to associated ASCII Value\n",
    "character = []\n",
    "for i in ascii_map:\n",
    "    character.append(chr(int(i)))\n",
    "# plt.imshow(np.rot90(np.fliplr(train_x[1].reshape(28,28))))\n",
    "character = pd.DataFrame(character)"
   ]
  },
  {
   "cell_type": "code",
   "execution_count": 14,
   "metadata": {},
   "outputs": [],
   "source": [
    "ascii_map = pd.DataFrame(ascii_map)\n",
    "ascii_map[\"Character\"] = character\n",
    "ascii_map.to_csv(\"mapping.csv\",index=False,header=True)"
   ]
  },
  {
   "cell_type": "code",
   "execution_count": 15,
   "metadata": {},
   "outputs": [
    {
     "ename": "FileNotFoundError",
     "evalue": "[Errno 2] No such file or directory: '../input/alphabet-prediction-set/downloada.png'",
     "output_type": "error",
     "traceback": [
      "\u001b[0;31m---------------------------------------------------------------------------\u001b[0m",
      "\u001b[0;31mFileNotFoundError\u001b[0m                         Traceback (most recent call last)",
      "\u001b[0;32m<ipython-input-15-69a9e0485caa>\u001b[0m in \u001b[0;36m<module>\u001b[0;34m\u001b[0m\n\u001b[1;32m      3\u001b[0m \u001b[0;34m\u001b[0m\u001b[0m\n\u001b[1;32m      4\u001b[0m \u001b[0mimg_sh_lst\u001b[0m \u001b[0;34m=\u001b[0m \u001b[0;34m[\u001b[0m\u001b[0;34m]\u001b[0m\u001b[0;34m\u001b[0m\u001b[0;34m\u001b[0m\u001b[0m\n\u001b[0;32m----> 5\u001b[0;31m \u001b[0mimg\u001b[0m \u001b[0;34m=\u001b[0m \u001b[0mimage\u001b[0m\u001b[0;34m.\u001b[0m\u001b[0mload_img\u001b[0m\u001b[0;34m(\u001b[0m\u001b[0;34m\"../input/alphabet-prediction-set/downloada.png\"\u001b[0m\u001b[0;34m,\u001b[0m\u001b[0mtarget_size\u001b[0m\u001b[0;34m=\u001b[0m\u001b[0;34m(\u001b[0m\u001b[0;36m28\u001b[0m\u001b[0;34m,\u001b[0m\u001b[0;36m28\u001b[0m\u001b[0;34m)\u001b[0m\u001b[0;34m)\u001b[0m\u001b[0;34m\u001b[0m\u001b[0;34m\u001b[0m\u001b[0m\n\u001b[0m\u001b[1;32m      6\u001b[0m \u001b[0mx\u001b[0m \u001b[0;34m=\u001b[0m \u001b[0mimage\u001b[0m\u001b[0;34m.\u001b[0m\u001b[0mimg_to_array\u001b[0m\u001b[0;34m(\u001b[0m\u001b[0mimg\u001b[0m\u001b[0;34m)\u001b[0m\u001b[0;34m\u001b[0m\u001b[0;34m\u001b[0m\u001b[0m\n\u001b[1;32m      7\u001b[0m \u001b[0mprint\u001b[0m\u001b[0;34m(\u001b[0m\u001b[0mx\u001b[0m\u001b[0;34m.\u001b[0m\u001b[0mshape\u001b[0m\u001b[0;34m)\u001b[0m\u001b[0;34m\u001b[0m\u001b[0;34m\u001b[0m\u001b[0m\n",
      "\u001b[0;32m/opt/conda/lib/python3.7/site-packages/tensorflow/python/keras/preprocessing/image.py\u001b[0m in \u001b[0;36mload_img\u001b[0;34m(path, grayscale, color_mode, target_size, interpolation)\u001b[0m\n\u001b[1;32m    298\u001b[0m   \"\"\"\n\u001b[1;32m    299\u001b[0m   return image.load_img(path, grayscale=grayscale, color_mode=color_mode,\n\u001b[0;32m--> 300\u001b[0;31m                         target_size=target_size, interpolation=interpolation)\n\u001b[0m\u001b[1;32m    301\u001b[0m \u001b[0;34m\u001b[0m\u001b[0m\n\u001b[1;32m    302\u001b[0m \u001b[0;34m\u001b[0m\u001b[0m\n",
      "\u001b[0;32m/opt/conda/lib/python3.7/site-packages/keras_preprocessing/image/utils.py\u001b[0m in \u001b[0;36mload_img\u001b[0;34m(path, grayscale, color_mode, target_size, interpolation)\u001b[0m\n\u001b[1;32m    111\u001b[0m         raise ImportError('Could not import PIL.Image. '\n\u001b[1;32m    112\u001b[0m                           'The use of `load_img` requires PIL.')\n\u001b[0;32m--> 113\u001b[0;31m     \u001b[0;32mwith\u001b[0m \u001b[0mopen\u001b[0m\u001b[0;34m(\u001b[0m\u001b[0mpath\u001b[0m\u001b[0;34m,\u001b[0m \u001b[0;34m'rb'\u001b[0m\u001b[0;34m)\u001b[0m \u001b[0;32mas\u001b[0m \u001b[0mf\u001b[0m\u001b[0;34m:\u001b[0m\u001b[0;34m\u001b[0m\u001b[0;34m\u001b[0m\u001b[0m\n\u001b[0m\u001b[1;32m    114\u001b[0m         \u001b[0mimg\u001b[0m \u001b[0;34m=\u001b[0m \u001b[0mpil_image\u001b[0m\u001b[0;34m.\u001b[0m\u001b[0mopen\u001b[0m\u001b[0;34m(\u001b[0m\u001b[0mio\u001b[0m\u001b[0;34m.\u001b[0m\u001b[0mBytesIO\u001b[0m\u001b[0;34m(\u001b[0m\u001b[0mf\u001b[0m\u001b[0;34m.\u001b[0m\u001b[0mread\u001b[0m\u001b[0;34m(\u001b[0m\u001b[0;34m)\u001b[0m\u001b[0;34m)\u001b[0m\u001b[0;34m)\u001b[0m\u001b[0;34m\u001b[0m\u001b[0;34m\u001b[0m\u001b[0m\n\u001b[1;32m    115\u001b[0m         \u001b[0;32mif\u001b[0m \u001b[0mcolor_mode\u001b[0m \u001b[0;34m==\u001b[0m \u001b[0;34m'grayscale'\u001b[0m\u001b[0;34m:\u001b[0m\u001b[0;34m\u001b[0m\u001b[0;34m\u001b[0m\u001b[0m\n",
      "\u001b[0;31mFileNotFoundError\u001b[0m: [Errno 2] No such file or directory: '../input/alphabet-prediction-set/downloada.png'"
     ]
    }
   ],
   "source": [
    "from keras.preprocessing import image\n",
    "import cv2\n",
    "\n",
    "img_sh_lst = []\n",
    "img = image.load_img(\"../input/alphabet-prediction-set/downloada.png\",target_size=(28,28))\n",
    "x = image.img_to_array(img)\n",
    "print(x.shape)\n",
    "x = x/255.0\n",
    "\n",
    "gray_image = cv2.cvtColor(x, cv2.COLOR_BGR2GRAY)\n",
    "gray_image = np.expand_dims(gray_image, axis=-1)\n",
    "plt.imshow(gray_image)\n",
    "gray_image = np.expand_dims(gray_image, axis=0)\n",
    "cl = model.predict(gray_image)\n",
    "cl = list(cl[0])\n",
    "\n",
    "print(\"Prediction : \",ascii_map[\"Character\"][cl.index(max(cl))])\n"
   ]
  },
  {
   "cell_type": "code",
   "execution_count": null,
   "metadata": {},
   "outputs": [],
   "source": [
    "print(tf.__version__)"
   ]
  }
 ],
 "metadata": {
  "kernelspec": {
   "display_name": "Python 3",
   "language": "python",
   "name": "python3"
  },
  "language_info": {
   "codemirror_mode": {
    "name": "ipython",
    "version": 3
   },
   "file_extension": ".py",
   "mimetype": "text/x-python",
   "name": "python",
   "nbconvert_exporter": "python",
   "pygments_lexer": "ipython3",
   "version": "3.8.8"
  }
 },
 "nbformat": 4,
 "nbformat_minor": 4
}
